{
 "cells": [
  {
   "cell_type": "markdown",
   "metadata": {},
   "source": [
    "### Calcula $$\\lim_{x\\to+\\infty} \\frac{x^3+2x-1}{5x^3+x^2-2x+1}$$"
   ]
  },
  {
   "cell_type": "code",
   "execution_count": 1,
   "metadata": {},
   "outputs": [
    {
     "data": {
      "text/plain": [
       "1/5"
      ]
     },
     "execution_count": 1,
     "metadata": {},
     "output_type": "execute_result"
    }
   ],
   "source": [
    "limit( (x**3+2*x-1)/(5*x**3+x**2-2*x+1) , x=oo)"
   ]
  },
  {
   "cell_type": "markdown",
   "metadata": {},
   "source": [
    "### Calcula $$\\lim_{x\\to+\\infty} \\sqrt{x^2-x}-\\sqrt{x^2+4x}$$"
   ]
  },
  {
   "cell_type": "code",
   "execution_count": 2,
   "metadata": {},
   "outputs": [
    {
     "data": {
      "text/plain": [
       "-5/2"
      ]
     },
     "execution_count": 2,
     "metadata": {},
     "output_type": "execute_result"
    }
   ],
   "source": [
    "limit( sqrt(x**2-x)-sqrt(x**2+4*x), x=oo)"
   ]
  },
  {
   "cell_type": "markdown",
   "metadata": {},
   "source": [
    "### Calcula $$\\lim_{x\\to+\\infty} \\ln{(1+x+\\sqrt{x})}-\\ln{(x)} $$"
   ]
  },
  {
   "cell_type": "code",
   "execution_count": 3,
   "metadata": {},
   "outputs": [
    {
     "data": {
      "text/plain": [
       "0"
      ]
     },
     "execution_count": 3,
     "metadata": {},
     "output_type": "execute_result"
    }
   ],
   "source": [
    "limit( ln(1+x+sqrt(x))-ln(x), x=oo)"
   ]
  },
  {
   "cell_type": "markdown",
   "metadata": {},
   "source": [
    "### Calcula $$\\lim_{x\\to+\\infty} \\frac{1^3+2^3+...+x^3}{x^4}$$"
   ]
  },
  {
   "cell_type": "markdown",
   "metadata": {},
   "source": [
    "Sabemos que $ \\sum_{n=1}^x n^3 = \\frac{1}{4}x^2(x+1)^2 $\n",
    "entonces el límite queda: $\\lim_{x\\to+\\infty} \\frac{x^2(x+1)^2}{4x^4}$"
   ]
  },
  {
   "cell_type": "code",
   "execution_count": 4,
   "metadata": {},
   "outputs": [
    {
     "data": {
      "text/plain": [
       "1/4"
      ]
     },
     "execution_count": 4,
     "metadata": {},
     "output_type": "execute_result"
    }
   ],
   "source": [
    "limit( x**2*(x+1)**2/(4*x**4), x=oo )"
   ]
  },
  {
   "cell_type": "markdown",
   "metadata": {},
   "source": [
    "### Calcula $$\\lim_{x\\to+\\infty} \\left( \\frac{x^3-2x}{x^3+3x^2-2x-1} \\right)^x $$"
   ]
  },
  {
   "cell_type": "code",
   "execution_count": 5,
   "metadata": {},
   "outputs": [
    {
     "data": {
      "text/plain": [
       "e^(-3)"
      ]
     },
     "execution_count": 5,
     "metadata": {},
     "output_type": "execute_result"
    }
   ],
   "source": [
    "limit( ((x**3-2*x)/(x**3+3*x**2-2*x-1))**x , x=oo )"
   ]
  },
  {
   "cell_type": "markdown",
   "metadata": {},
   "source": [
    "### Calcula $$ \\sum_{n=2}^\\infty \\frac{n+2}{n^3-n} $$"
   ]
  },
  {
   "cell_type": "code",
   "execution_count": 6,
   "metadata": {
    "scrolled": true
   },
   "outputs": [
    {
     "name": "stdout",
     "output_type": "stream",
     "text": [
      "1.23742283950617\n",
      "1.23995049504951\n"
     ]
    }
   ],
   "source": [
    "# lo podemos resolver numéricamente\n",
    "print( sum( (x+2)/(x**3-x), x, 2, 80 ).n() )\n",
    "print( sum( (x+2)/(x**3-x), x, 2, 100 ).n() ) \n",
    "    #se va acercando cada vez más a 1.25 = 5/4"
   ]
  },
  {
   "cell_type": "code",
   "execution_count": 9,
   "metadata": {},
   "outputs": [
    {
     "data": {
      "text/latex": [
       "$\\displaystyle \\frac{5}{4}$"
      ],
      "text/plain": [
       "5/4"
      ]
     },
     "execution_count": 9,
     "metadata": {},
     "output_type": "execute_result"
    }
   ],
   "source": [
    "# o simbólicamente\n",
    "from sympy import *\n",
    "n = Symbol('n')\n",
    "s = Sum( (n+2)/(n**3-n), (n, 2, oo) )\n",
    "s.doit()"
   ]
  },
  {
   "cell_type": "markdown",
   "metadata": {},
   "source": [
    "### Calcula $$ \\sum_{n=2}^\\infty \\frac{1}{n^3-n} $$"
   ]
  },
  {
   "cell_type": "code",
   "execution_count": 10,
   "metadata": {},
   "outputs": [
    {
     "data": {
      "text/latex": [
       "$\\displaystyle \\frac{1}{4}$"
      ],
      "text/plain": [
       "1/4"
      ]
     },
     "execution_count": 10,
     "metadata": {},
     "output_type": "execute_result"
    }
   ],
   "source": [
    "from sympy import *\n",
    "n = Symbol('n')\n",
    "s = Sum( (1)/(n**3-n), (n, 2, oo) )\n",
    "s.doit()\n"
   ]
  },
  {
   "cell_type": "markdown",
   "metadata": {},
   "source": [
    "### Calcula $$ \\sum_{n=0}^\\infty (-1)^nx^n $$"
   ]
  },
  {
   "cell_type": "code",
   "execution_count": 11,
   "metadata": {},
   "outputs": [
    {
     "data": {
      "text/latex": [
       "$\\displaystyle \\begin{cases} \\frac{1}{x + 1} & \\text{for}\\: \\left|{x}\\right| < 1 \\\\\\sum_{n=0}^{\\infty} \\left(-1\\right)^{n} x^{n} & \\text{otherwise} \\end{cases}$"
      ],
      "text/plain": [
       "Piecewise((1/(x + 1), Abs(x) < 1), (Sum((-1)**n*x**n, (n, 0, oo)), True))"
      ]
     },
     "execution_count": 11,
     "metadata": {},
     "output_type": "execute_result"
    }
   ],
   "source": [
    "from sympy import *\n",
    "n = Symbol('n')\n",
    "x = Symbol('x')\n",
    "s = Sum( (-1)**n*x**n, (n, 0, oo) )\n",
    "s.doit()"
   ]
  },
  {
   "cell_type": "markdown",
   "metadata": {},
   "source": [
    "Esta serie sólo es convergente cuando $-1<x<1$, en otro caso es divergente y la suma de la serie no existe."
   ]
  },
  {
   "cell_type": "markdown",
   "metadata": {},
   "source": [
    "### Calcula $$ \\sum_{n=0}^\\infty (-1)^n4^nx^{2n} $$"
   ]
  },
  {
   "cell_type": "code",
   "execution_count": 12,
   "metadata": {},
   "outputs": [
    {
     "data": {
      "text/latex": [
       "$\\displaystyle \\begin{cases} \\frac{1}{4 x^{2} + 1} & \\text{for}\\: 4 \\left|{x^{2}}\\right| < 1 \\\\\\sum_{n=0}^{\\infty} \\left(-1\\right)^{n} 4^{n} x^{2 n} & \\text{otherwise} \\end{cases}$"
      ],
      "text/plain": [
       "Piecewise((1/(4*x**2 + 1), 4*Abs(x**2) < 1), (Sum((-1)**n*4**n*x**(2*n), (n, 0, oo)), True))"
      ]
     },
     "execution_count": 12,
     "metadata": {},
     "output_type": "execute_result"
    }
   ],
   "source": [
    "from sympy import *\n",
    "n = Symbol('n')\n",
    "x = Symbol('x')\n",
    "s = Sum( (-1)**n*4**n*x**(2*n), (n, 0, oo) )\n",
    "s.doit()"
   ]
  },
  {
   "cell_type": "markdown",
   "metadata": {},
   "source": [
    "Esta serie sólo es convergente cuando $\\frac{-1}{2}<x<\\frac{1}{2}$, en otro caso es divergente y la suma de la serie no existe."
   ]
  },
  {
   "cell_type": "markdown",
   "metadata": {},
   "source": [
    "### Calcula la serie de Taylor en el origen de la función $ f(x) =\\frac{1}{1+x^2}$"
   ]
  },
  {
   "cell_type": "markdown",
   "metadata": {},
   "source": [
    "El polinomio de Taylor de f(x) en 0 es:"
   ]
  },
  {
   "cell_type": "code",
   "execution_count": 7,
   "metadata": {},
   "outputs": [
    {
     "data": {
      "text/plain": [
       "x^8 - x^6 + x^4 - x^2 + 1"
      ]
     },
     "execution_count": 7,
     "metadata": {},
     "output_type": "execute_result"
    }
   ],
   "source": [
    "# desarrollo del polinomio de Taylor de f(x) en 0 de grado 8\n",
    "taylor(1/(1+x**2), x, 0, 8)"
   ]
  },
  {
   "cell_type": "markdown",
   "metadata": {},
   "source": [
    "generalizando, podemos decir que la serie de Taylor de f(x) en 0 va a tener la forma: \n",
    "$$ \\sum_{n=0}^\\infty (-1)^nx^{2n} $$"
   ]
  },
  {
   "cell_type": "code",
   "execution_count": 14,
   "metadata": {},
   "outputs": [
    {
     "data": {
      "text/latex": [
       "$\\displaystyle \\begin{cases} \\frac{1}{x^{2} + 1} & \\text{for}\\: \\left|{x^{2}}\\right| < 1 \\\\\\sum_{n=0}^{\\infty} \\left(-1\\right)^{n} x^{2 n} & \\text{otherwise} \\end{cases}$"
      ],
      "text/plain": [
       "Piecewise((1/(x**2 + 1), Abs(x**2) < 1), (Sum((-1)**n*x**(2*n), (n, 0, oo)), True))"
      ]
     },
     "execution_count": 14,
     "metadata": {},
     "output_type": "execute_result"
    }
   ],
   "source": [
    "# en efecto, la suma de la serie nos da f(x)\n",
    "from sympy import *\n",
    "n = Symbol('n')\n",
    "x = Symbol('x')\n",
    "s = Sum( (-1)**n*x**(2*n), (n, 0, oo) )\n",
    "s.doit()"
   ]
  },
  {
   "cell_type": "markdown",
   "metadata": {},
   "source": [
    "### Calcula la serie de Taylor en el origen de la función $ g(x) = xcos(x) $"
   ]
  },
  {
   "cell_type": "markdown",
   "metadata": {},
   "source": [
    "El polinomio de Taylor de g(x) en 0 es:"
   ]
  },
  {
   "cell_type": "code",
   "execution_count": 8,
   "metadata": {},
   "outputs": [
    {
     "data": {
      "text/plain": [
       "-1/720*x^7 + 1/24*x^5 - 1/2*x^3 + x"
      ]
     },
     "execution_count": 8,
     "metadata": {},
     "output_type": "execute_result"
    }
   ],
   "source": [
    "# desarrollo del polinomio de Taylor de g(x) en 0 de grado 8\n",
    "taylor(x*cos(x), x, 0, 8)"
   ]
  },
  {
   "cell_type": "markdown",
   "metadata": {},
   "source": [
    "generalizando, podemos decir que las serie de Taylor de g(x) en 0 va a tener la forma: \n",
    "$$ \\sum_{n=0}^\\infty (-1)^n \\cdot \\frac{x^{2n+1}}{(2n)!} $$"
   ]
  },
  {
   "cell_type": "code",
   "execution_count": 15,
   "metadata": {},
   "outputs": [
    {
     "data": {
      "text/latex": [
       "$\\displaystyle x \\cos{\\left(x \\right)}$"
      ],
      "text/plain": [
       "x*cos(x)"
      ]
     },
     "execution_count": 15,
     "metadata": {},
     "output_type": "execute_result"
    }
   ],
   "source": [
    "# en efecto, la suma de la serie nos da g(x)\n",
    "from sympy import *\n",
    "n = Symbol('n')\n",
    "x = Symbol('x')\n",
    "s = Sum( (-1)**n*x**(2*n+1)/factorial(2*n), (n, 0, oo) )\n",
    "s.doit()"
   ]
  }
 ],
 "metadata": {
  "kernelspec": {
   "display_name": "Python 3",
   "language": "python",
   "name": "python3"
  },
  "language_info": {
   "codemirror_mode": {
    "name": "ipython",
    "version": 3
   },
   "file_extension": ".py",
   "mimetype": "text/x-python",
   "name": "python",
   "nbconvert_exporter": "python",
   "pygments_lexer": "ipython3",
   "version": "3.10.7 (tags/v3.10.7:6cc6b13, Sep  5 2022, 14:08:36) [MSC v.1933 64 bit (AMD64)]"
  },
  "vscode": {
   "interpreter": {
    "hash": "7330bce0b2fdd4a17b488f6c0415382ba9f39d464476f54a57180e60bf8c4a01"
   }
  }
 },
 "nbformat": 4,
 "nbformat_minor": 4
}
